{
 "cells": [
  {
   "cell_type": "markdown",
   "metadata": {},
   "source": [
    "Welcome to Machine Learning!"
   ]
  },
  {
   "cell_type": "code",
   "execution_count": 3,
   "metadata": {},
   "outputs": [],
   "source": [
    "import sys\n",
    "assert sys.version_info >= (3, 7)\n",
    "from packaging import version\n",
    "import sklearn\n",
    "assert version.parse(sklearn.__version__) >= version.parse('1.0.1')\n",
    "import pandas as pd"
   ]
  },
  {
   "cell_type": "code",
   "execution_count": 5,
   "metadata": {},
   "outputs": [],
   "source": [
    "housing = pd.read_csv('data/housing.csv')"
   ]
  },
  {
   "cell_type": "code",
   "execution_count": 6,
   "metadata": {},
   "outputs": [
    {
     "data": {
      "text/html": [
       "<div>\n",
       "<style scoped>\n",
       "    .dataframe tbody tr th:only-of-type {\n",
       "        vertical-align: middle;\n",
       "    }\n",
       "\n",
       "    .dataframe tbody tr th {\n",
       "        vertical-align: top;\n",
       "    }\n",
       "\n",
       "    .dataframe thead th {\n",
       "        text-align: right;\n",
       "    }\n",
       "</style>\n",
       "<table border=\"1\" class=\"dataframe\">\n",
       "  <thead>\n",
       "    <tr style=\"text-align: right;\">\n",
       "      <th></th>\n",
       "      <th>longitude</th>\n",
       "      <th>latitude</th>\n",
       "      <th>housing_median_age</th>\n",
       "      <th>total_rooms</th>\n",
       "      <th>total_bedrooms</th>\n",
       "      <th>population</th>\n",
       "      <th>households</th>\n",
       "      <th>median_income</th>\n",
       "      <th>median_house_value</th>\n",
       "      <th>ocean_proximity</th>\n",
       "    </tr>\n",
       "  </thead>\n",
       "  <tbody>\n",
       "    <tr>\n",
       "      <th>686</th>\n",
       "      <td>-122.38</td>\n",
       "      <td>40.69</td>\n",
       "      <td>21.0</td>\n",
       "      <td>1774.0</td>\n",
       "      <td>370.0</td>\n",
       "      <td>875.0</td>\n",
       "      <td>354.0</td>\n",
       "      <td>1.7422</td>\n",
       "      <td>61500.0</td>\n",
       "      <td>INLAND</td>\n",
       "    </tr>\n",
       "    <tr>\n",
       "      <th>17331</th>\n",
       "      <td>-118.92</td>\n",
       "      <td>36.04</td>\n",
       "      <td>28.0</td>\n",
       "      <td>1148.0</td>\n",
       "      <td>233.0</td>\n",
       "      <td>521.0</td>\n",
       "      <td>212.0</td>\n",
       "      <td>2.9208</td>\n",
       "      <td>98500.0</td>\n",
       "      <td>INLAND</td>\n",
       "    </tr>\n",
       "    <tr>\n",
       "      <th>2226</th>\n",
       "      <td>-117.68</td>\n",
       "      <td>34.03</td>\n",
       "      <td>16.0</td>\n",
       "      <td>2859.0</td>\n",
       "      <td>668.0</td>\n",
       "      <td>1946.0</td>\n",
       "      <td>591.0</td>\n",
       "      <td>3.0396</td>\n",
       "      <td>124300.0</td>\n",
       "      <td>INLAND</td>\n",
       "    </tr>\n",
       "    <tr>\n",
       "      <th>1742</th>\n",
       "      <td>-118.03</td>\n",
       "      <td>33.97</td>\n",
       "      <td>39.0</td>\n",
       "      <td>2126.0</td>\n",
       "      <td>434.0</td>\n",
       "      <td>1103.0</td>\n",
       "      <td>433.0</td>\n",
       "      <td>3.2852</td>\n",
       "      <td>196200.0</td>\n",
       "      <td>&lt;1H OCEAN</td>\n",
       "    </tr>\n",
       "    <tr>\n",
       "      <th>1312</th>\n",
       "      <td>-121.41</td>\n",
       "      <td>38.57</td>\n",
       "      <td>16.0</td>\n",
       "      <td>4429.0</td>\n",
       "      <td>1124.0</td>\n",
       "      <td>1538.0</td>\n",
       "      <td>960.0</td>\n",
       "      <td>3.2443</td>\n",
       "      <td>190700.0</td>\n",
       "      <td>INLAND</td>\n",
       "    </tr>\n",
       "  </tbody>\n",
       "</table>\n",
       "</div>"
      ],
      "text/plain": [
       "       longitude  latitude  housing_median_age  total_rooms  total_bedrooms  \\\n",
       "686      -122.38     40.69                21.0       1774.0           370.0   \n",
       "17331    -118.92     36.04                28.0       1148.0           233.0   \n",
       "2226     -117.68     34.03                16.0       2859.0           668.0   \n",
       "1742     -118.03     33.97                39.0       2126.0           434.0   \n",
       "1312     -121.41     38.57                16.0       4429.0          1124.0   \n",
       "\n",
       "       population  households  median_income  median_house_value  \\\n",
       "686         875.0       354.0         1.7422             61500.0   \n",
       "17331       521.0       212.0         2.9208             98500.0   \n",
       "2226       1946.0       591.0         3.0396            124300.0   \n",
       "1742       1103.0       433.0         3.2852            196200.0   \n",
       "1312       1538.0       960.0         3.2443            190700.0   \n",
       "\n",
       "      ocean_proximity  \n",
       "686            INLAND  \n",
       "17331          INLAND  \n",
       "2226           INLAND  \n",
       "1742        <1H OCEAN  \n",
       "1312           INLAND  "
      ]
     },
     "execution_count": 6,
     "metadata": {},
     "output_type": "execute_result"
    }
   ],
   "source": [
    "housing.sample(5)"
   ]
  },
  {
   "cell_type": "code",
   "execution_count": 7,
   "metadata": {},
   "outputs": [
    {
     "name": "stdout",
     "output_type": "stream",
     "text": [
      "<class 'pandas.core.frame.DataFrame'>\n",
      "RangeIndex: 20640 entries, 0 to 20639\n",
      "Data columns (total 10 columns):\n",
      " #   Column              Non-Null Count  Dtype  \n",
      "---  ------              --------------  -----  \n",
      " 0   longitude           20640 non-null  float64\n",
      " 1   latitude            20640 non-null  float64\n",
      " 2   housing_median_age  20640 non-null  float64\n",
      " 3   total_rooms         20640 non-null  float64\n",
      " 4   total_bedrooms      20433 non-null  float64\n",
      " 5   population          20640 non-null  float64\n",
      " 6   households          20640 non-null  float64\n",
      " 7   median_income       20640 non-null  float64\n",
      " 8   median_house_value  20640 non-null  float64\n",
      " 9   ocean_proximity     20640 non-null  object \n",
      "dtypes: float64(9), object(1)\n",
      "memory usage: 1.6+ MB\n"
     ]
    }
   ],
   "source": [
    "housing.info()"
   ]
  },
  {
   "cell_type": "code",
   "execution_count": null,
   "metadata": {},
   "outputs": [],
   "source": []
  }
 ],
 "metadata": {
  "kernelspec": {
   "display_name": "Python 3.10.5 64-bit",
   "language": "python",
   "name": "python3"
  },
  "language_info": {
   "codemirror_mode": {
    "name": "ipython",
    "version": 3
   },
   "file_extension": ".py",
   "mimetype": "text/x-python",
   "name": "python",
   "nbconvert_exporter": "python",
   "pygments_lexer": "ipython3",
   "version": "3.10.5"
  },
  "orig_nbformat": 4,
  "vscode": {
   "interpreter": {
    "hash": "2469a70536e4d2335a2ea8907942d0699c37342a371ac185bdb5b0aa6f073890"
   }
  }
 },
 "nbformat": 4,
 "nbformat_minor": 2
}
