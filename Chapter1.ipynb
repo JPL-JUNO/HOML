{
 "cells": [
  {
   "cell_type": "code",
   "execution_count": 10,
   "id": "a792a418",
   "metadata": {
    "ExecuteTime": {
     "end_time": "2022-11-01T01:47:01.018671Z",
     "start_time": "2022-11-01T01:47:01.006302Z"
    }
   },
   "outputs": [],
   "source": [
    "import sys\n",
    "assert sys.version_info >= (3, 7)\n",
    "from packaging import version\n",
    "import sklearn\n",
    "assert version.parse(sklearn.__version__) >= version.parse('1.0.1')\n",
    "import matplotlib.pyplot as plt\n",
    "plt.rc('font', size=12)\n",
    "plt.rc('axes', labelsize=14, titlesize=14)\n",
    "plt.rc('legend', fontsize=12)\n",
    "plt.rc('xtick', labelsize=10)\n",
    "plt.rc('ytick', labelsize=10)\n",
    "import numpy as np\n",
    "np.random.seed(39)"
   ]
  },
  {
   "cell_type": "markdown",
   "id": "ab08933b",
   "metadata": {
    "ExecuteTime": {
     "end_time": "2022-11-01T01:42:30.500625Z",
     "start_time": "2022-11-01T01:42:30.491631Z"
    }
   },
   "source": [
    "# Code Example 1-1"
   ]
  },
  {
   "cell_type": "code",
   "execution_count": 11,
   "id": "1495d8ba",
   "metadata": {
    "ExecuteTime": {
     "end_time": "2022-11-01T01:48:01.941323Z",
     "start_time": "2022-11-01T01:48:01.257883Z"
    }
   },
   "outputs": [],
   "source": [
    "from sklearn.linear_model import LinearRegression\n",
    "import matplotlib.pyplot as plt\n",
    "import pandas as pd\n",
    "import numpy as np"
   ]
  },
  {
   "cell_type": "code",
   "execution_count": 50,
   "id": "d37fb31a",
   "metadata": {
    "ExecuteTime": {
     "end_time": "2022-11-01T02:07:56.392993Z",
     "start_time": "2022-11-01T02:07:56.385076Z"
    }
   },
   "outputs": [],
   "source": [
    "lifesat = pd.read_csv('data/lifesat.csv')\n",
    "# array n*1  not series\n",
    "X = lifesat[['GDP per capita (USD)']].values\n",
    "y = lifesat[['Life satisfaction']].values\n",
    "\n",
    "# wrong\n",
    "# X = lifesat['GDP per capita (USD)'].values\n",
    "# y = lifesat['Life satisfaction'].values\n",
    "\n",
    "# wrong\n",
    "# X = lifesat['GDP per capita (USD)']\n",
    "# y = lifesat['Life satisfaction']"
   ]
  },
  {
   "cell_type": "code",
   "execution_count": 34,
   "id": "0a8d5d8f",
   "metadata": {
    "ExecuteTime": {
     "end_time": "2022-11-01T02:02:35.167656Z",
     "start_time": "2022-11-01T02:02:35.086839Z"
    }
   },
   "outputs": [
    {
     "data": {
      "image/png": "[encoded data removed]",
      "text/plain": [
       "<Figure size 432x288 with 1 Axes>"
      ]
     },
     "metadata": {
      "needs_background": "light"
     },
     "output_type": "display_data"
    }
   ],
   "source": [
    "lifesat.plot(kind='scatter', \n",
    "             x='GDP per capita (USD)', y='Life satisfaction')\n",
    "plt.show()"
   ]
  },
  {
   "cell_type": "code",
   "execution_count": 53,
   "id": "4f20505f",
   "metadata": {
    "ExecuteTime": {
     "end_time": "2022-11-01T02:08:12.797922Z",
     "start_time": "2022-11-01T02:08:12.780716Z"
    },
    "scrolled": false
   },
   "outputs": [
    {
     "data": {
      "text/plain": [
       "LinearRegression()"
      ]
     },
     "execution_count": 53,
     "metadata": {},
     "output_type": "execute_result"
    }
   ],
   "source": [
    "model = LinearRegression()\n",
    "model.fit(X.reshape(-1, 1), y)"
   ]
  },
  {
   "cell_type": "code",
   "execution_count": 54,
   "id": "049d9987",
   "metadata": {
    "ExecuteTime": {
     "end_time": "2022-11-01T02:08:14.228148Z",
     "start_time": "2022-11-01T02:08:14.221163Z"
    }
   },
   "outputs": [
    {
     "name": "stdout",
     "output_type": "stream",
     "text": [
      "[[6.30165767]]\n"
     ]
    }
   ],
   "source": [
    "X_new = [[37_655.2]]\n",
    "print(model.predict(X_new))"
   ]
  },
  {
   "cell_type": "code",
   "execution_count": 55,
   "id": "e26db8f8",
   "metadata": {
    "ExecuteTime": {
     "end_time": "2022-11-01T02:08:15.832245Z",
     "start_time": "2022-11-01T02:08:15.818581Z"
    }
   },
   "outputs": [
    {
     "name": "stdout",
     "output_type": "stream",
     "text": [
      "[[6.33333333]]\n"
     ]
    }
   ],
   "source": [
    "from sklearn.neighbors import KNeighborsRegressor\n",
    "model = KNeighborsRegressor(n_neighbors=3)\n",
    "model.fit(X, y)\n",
    "print(model.predict(X_new))"
   ]
  }
 ],
 "metadata": {
  "kernelspec": {
   "display_name": "Python 3 (ipykernel)",
   "language": "python",
   "name": "python3"
  },
  "language_info": {
   "codemirror_mode": {
    "name": "ipython",
    "version": 3
   },
   "file_extension": ".py",
   "mimetype": "text/x-python",
   "name": "python",
   "nbconvert_exporter": "python",
   "pygments_lexer": "ipython3",
   "version": "3.9.12"
  },
  "latex_envs": {
   "LaTeX_envs_menu_present": true,
   "autoclose": false,
   "autocomplete": true,
   "bibliofile": "biblio.bib",
   "cite_by": "apalike",
   "current_citInitial": 1,
   "eqLabelWithNumbers": true,
   "eqNumInitial": 1,
   "hotkeys": {
    "equation": "Ctrl-E",
    "itemize": "Ctrl-I"
   },
   "labels_anchors": false,
   "latex_user_defs": false,
   "report_style_numbering": false,
   "user_envs_cfg": false
  },
  "toc": {
   "base_numbering": 1,
   "nav_menu": {},
   "number_sections": true,
   "sideBar": true,
   "skip_h1_title": false,
   "title_cell": "Table of Contents",
   "title_sidebar": "Contents",
   "toc_cell": false,
   "toc_position": {},
   "toc_section_display": true,
   "toc_window_display": false
  },
  "varInspector": {
   "cols": {
    "lenName": 16,
    "lenType": 16,
    "lenVar": 40
   },
   "kernels_config": {
    "python": {
     "delete_cmd_postfix": "",
     "delete_cmd_prefix": "del ",
     "library": "var_list.py",
     "varRefreshCmd": "print(var_dic_list())"
    },
    "r": {
     "delete_cmd_postfix": ") ",
     "delete_cmd_prefix": "rm(",
     "library": "var_list.r",
     "varRefreshCmd": "cat(var_dic_list()) "
    }
   },
   "types_to_exclude": [
    "module",
    "function",
    "builtin_function_or_method",
    "instance",
    "_Feature"
   ],
   "window_display": false
  }
 },
 "nbformat": 4,
 "nbformat_minor": 5
}
