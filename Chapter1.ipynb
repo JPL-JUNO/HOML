{
 "cells": [
  {
   "cell_type": "code",
   "execution_count": 1,
   "id": "a792a418",
   "metadata": {
    "ExecuteTime": {
     "end_time": "2022-11-01T06:35:58.197239Z",
     "start_time": "2022-11-01T06:35:55.868395Z"
    }
   },
   "outputs": [],
   "source": [
    "import sys\n",
    "assert sys.version_info >= (3, 7)\n",
    "from packaging import version\n",
    "import sklearn\n",
    "assert version.parse(sklearn.__version__) >= version.parse('1.0.1')\n",
    "import matplotlib.pyplot as plt\n",
    "plt.rc('font', size=12)\n",
    "plt.rc('axes', labelsize=14, titlesize=14)\n",
    "plt.rc('legend', fontsize=12)\n",
    "plt.rc('xtick', labelsize=10)\n",
    "plt.rc('ytick', labelsize=10)\n",
    "import numpy as np\n",
    "np.random.seed(39)"
   ]
  },
  {
   "cell_type": "markdown",
   "id": "ab08933b",
   "metadata": {
    "ExecuteTime": {
     "end_time": "2022-11-01T01:42:30.500625Z",
     "start_time": "2022-11-01T01:42:30.491631Z"
    }
   },
   "source": [
    "# Code Example 1-1"
   ]
  },
  {
   "cell_type": "code",
   "execution_count": 2,
   "id": "1495d8ba",
   "metadata": {
    "ExecuteTime": {
     "end_time": "2022-11-01T06:36:02.484172Z",
     "start_time": "2022-11-01T06:36:01.516698Z"
    }
   },
   "outputs": [],
   "source": [
    "from sklearn.linear_model import LinearRegression\n",
    "import matplotlib.pyplot as plt\n",
    "import pandas as pd\n",
    "import numpy as np"
   ]
  },
  {
   "cell_type": "code",
   "execution_count": 3,
   "id": "d37fb31a",
   "metadata": {
    "ExecuteTime": {
     "end_time": "2022-11-01T06:36:03.826671Z",
     "start_time": "2022-11-01T06:36:03.788670Z"
    }
   },
   "outputs": [],
   "source": [
    "lifesat = pd.read_csv('data/lifesat.csv')\n",
    "# array n*1  not series\n",
    "X = lifesat[['GDP per capita (USD)']].values\n",
    "y = lifesat[['Life satisfaction']].values\n",
    "\n",
    "# wrong\n",
    "# X = lifesat['GDP per capita (USD)'].values\n",
    "# y = lifesat['Life satisfaction'].values\n",
    "\n",
    "# wrong\n",
    "# X = lifesat['GDP per capita (USD)']\n",
    "# y = lifesat['Life satisfaction']"
   ]
  },
  {
   "cell_type": "code",
   "execution_count": 4,
   "id": "0a8d5d8f",
   "metadata": {
    "ExecuteTime": {
     "end_time": "2022-11-01T06:36:05.079356Z",
     "start_time": "2022-11-01T06:36:04.846720Z"
    }
   },
   "outputs": [
    {
     "data": {
      "image/png": "[encoded data removed]",
      "text/plain": [
       "<Figure size 432x288 with 1 Axes>"
      ]
     },
     "metadata": {
      "needs_background": "light"
     },
     "output_type": "display_data"
    }
   ],
   "source": [
    "lifesat.plot(kind='scatter', \n",
    "             x='GDP per capita (USD)', y='Life satisfaction')\n",
    "plt.show()"
   ]
  },
  {
   "cell_type": "code",
   "execution_count": 5,
   "id": "4f20505f",
   "metadata": {
    "ExecuteTime": {
     "end_time": "2022-11-01T06:36:06.530265Z",
     "start_time": "2022-11-01T06:36:06.489269Z"
    },
    "scrolled": false
   },
   "outputs": [
    {
     "data": {
      "text/plain": [
       "LinearRegression()"
      ]
     },
     "execution_count": 5,
     "metadata": {},
     "output_type": "execute_result"
    }
   ],
   "source": [
    "model = LinearRegression()\n",
    "model.fit(X.reshape(-1, 1), y)"
   ]
  },
  {
   "cell_type": "code",
   "execution_count": 6,
   "id": "049d9987",
   "metadata": {
    "ExecuteTime": {
     "end_time": "2022-11-01T06:36:08.099978Z",
     "start_time": "2022-11-01T06:36:08.086973Z"
    }
   },
   "outputs": [
    {
     "name": "stdout",
     "output_type": "stream",
     "text": [
      "[[6.30165767]]\n"
     ]
    }
   ],
   "source": [
    "X_new = [[37_655.2]]\n",
    "print(model.predict(X_new))"
   ]
  },
  {
   "cell_type": "code",
   "execution_count": 7,
   "id": "e26db8f8",
   "metadata": {
    "ExecuteTime": {
     "end_time": "2022-11-01T06:36:08.712619Z",
     "start_time": "2022-11-01T06:36:08.664619Z"
    }
   },
   "outputs": [
    {
     "name": "stdout",
     "output_type": "stream",
     "text": [
      "[[6.33333333]]\n"
     ]
    }
   ],
   "source": [
    "from sklearn.neighbors import KNeighborsRegressor\n",
    "model = KNeighborsRegressor(n_neighbors=3)\n",
    "model.fit(X, y)\n",
    "print(model.predict(X_new))"
   ]
  },
  {
   "cell_type": "code",
   "execution_count": 35,
   "id": "7faae214",
   "metadata": {
    "ExecuteTime": {
     "end_time": "2022-11-01T07:55:18.230560Z",
     "start_time": "2022-11-01T07:55:18.218561Z"
    }
   },
   "outputs": [],
   "source": [
    "import os\n",
    "os.getcwd()\n",
    "images_path = os.getcwd() + '\\\\img\\\\'\n",
    "def save_fig(fig_id, tight_layout=True, fig_extension='png', resolution=200):\n",
    "    path = images_path + fig_id + '.' + fig_extension\n",
    "    if tight_layout:\n",
    "        plt.tight_layout()\n",
    "    plt.savefig(path, format=fig_extension, dpi=resolution)"
   ]
  },
  {
   "cell_type": "code",
   "execution_count": 37,
   "id": "5e506863",
   "metadata": {
    "ExecuteTime": {
     "end_time": "2022-11-01T07:56:44.300820Z",
     "start_time": "2022-11-01T07:56:43.918626Z"
    }
   },
   "outputs": [
    {
     "data": {
      "image/png": "[encoded data removed]",
      "text/plain": [
       "<Figure size 360x216 with 1 Axes>"
      ]
     },
     "metadata": {
      "needs_background": "light"
     },
     "output_type": "display_data"
    }
   ],
   "source": [
    "lifesat = pd.read_csv('data/lifesat.csv', index_col='Country')\n",
    "lifesat.plot(kind='scatter', figsize=(5, 3), grid=True,\n",
    "             x='GDP per capita (USD)', y='Life satisfaction')\n",
    "\n",
    "min_life_sat = 4\n",
    "max_life_sat = 9\n",
    "min_gdp = 23_500\n",
    "max_gdp = 62_500\n",
    "\n",
    "position_text = {\n",
    "    \"Turkey\": (29_500, 4.2),\n",
    "    \"Hungary\": (28_000, 6.9),\n",
    "    \"France\": (40_000, 5),\n",
    "    \"New Zealand\": (28_000, 8.2),\n",
    "    \"Australia\": (50_000, 5.5),\n",
    "    \"United States\": (59_000, 5.3),\n",
    "    \"Denmark\": (46_000, 8.5)\n",
    "}\n",
    "\n",
    "for country, pos_text in position_text.items():\n",
    "    pos_data_x = lifesat['GDP per capita (USD)'].loc[country]\n",
    "    pos_data_y = lifesat['Life satisfaction'].loc[country]\n",
    "    country = 'U.S.' if country == 'United States' else country\n",
    "    plt.annotate(country, xy=(pos_data_x, pos_data_y),\n",
    "                 xytext=pos_text, fontsize=12,\n",
    "                 arrowprops=dict(facecolor='black',\n",
    "                                 width=.5,\n",
    "                                 shrink=.08,\n",
    "                                 headwidth=5))\n",
    "    plt.plot(pos_data_x, pos_data_y, 'ro')\n",
    "plt.axis([min_gdp, max_gdp, min_life_sat, max_life_sat])\n",
    "save_fig('money_happy_scatterplot')\n",
    "plt.show()"
   ]
  },
  {
   "cell_type": "code",
   "execution_count": 47,
   "id": "bd23d6c1",
   "metadata": {
    "ExecuteTime": {
     "end_time": "2022-11-01T08:58:27.746393Z",
     "start_time": "2022-11-01T08:58:27.486747Z"
    }
   },
   "outputs": [
    {
     "data": {
      "image/png": "[encoded data removed]",
      "text/plain": [
       "<Figure size 360x216 with 1 Axes>"
      ]
     },
     "metadata": {
      "needs_background": "light"
     },
     "output_type": "display_data"
    }
   ],
   "source": [
    "lifesat.plot(kind='scatter', figsize=(5, 3), grid=True,\n",
    "             x='GDP per capita (USD)', y='Life satisfaction')\n",
    "X = np.linspace(min_gdp, max_gdp, 1000)\n",
    "\n",
    "w1, w2 = 4.2, 0\n",
    "plt.plot(X, w1 + w2 * 1e-5 * X, \"r\")\n",
    "plt.text(40_000, 4.9, fr\"$\\theta_0 = {w1}$\", color=\"r\")\n",
    "plt.text(40_000, 4.4, fr\"$\\theta_1 = {w2}$\", color=\"r\")\n",
    "\n",
    "w1, w2 = 10, -9\n",
    "plt.plot(X, w1 + w2 * 1e-5 * X, \"g\")\n",
    "plt.text(26_000, 8.5, fr\"$\\theta_0 = {w1}$\", color=\"g\")\n",
    "plt.text(26_000, 8.0, fr\"$\\theta_1 = {w2} \\times 10^{{-5}}$\", color=\"g\")\n",
    "\n",
    "w1, w2 = 3, 8\n",
    "plt.plot(X, w1 + w2 * 1e-5 * X, \"b\")\n",
    "plt.text(48_000, 8.5, fr\"$\\theta_0 = {w1}$\", color=\"b\")\n",
    "plt.text(48_000, 8.0, fr\"$\\theta_1 = {w2} \\times 10^{{-5}}$\", color=\"b\")\n",
    "\n",
    "plt.axis([min_gdp, max_gdp, min_life_sat, max_life_sat])\n",
    "save_fig('tweaking_model_params_plot')\n",
    "plt.show()"
   ]
  },
  {
   "cell_type": "code",
   "execution_count": 49,
   "id": "59e7cb95",
   "metadata": {
    "ExecuteTime": {
     "end_time": "2022-11-01T09:14:45.031309Z",
     "start_time": "2022-11-01T09:14:45.014954Z"
    }
   },
   "outputs": [],
   "source": [
    "gdp = \"GDP per capita (USD)\"\n",
    "sat = \"Life satisfaction\"\n",
    "from sklearn.linear_model import LinearRegression\n",
    "X_sample = lifesat[[gdp]].values\n",
    "y_sample = lifesat[[sat]].values"
   ]
  },
  {
   "cell_type": "code",
   "execution_count": 79,
   "id": "6f545177",
   "metadata": {
    "ExecuteTime": {
     "end_time": "2022-11-01T09:59:58.018927Z",
     "start_time": "2022-11-01T09:59:58.007591Z"
    }
   },
   "outputs": [
    {
     "name": "stdout",
     "output_type": "stream",
     "text": [
      "w0=3.75, w1=6.78e-05\n"
     ]
    }
   ],
   "source": [
    "lin1 = LinearRegression()\n",
    "lin1.fit(X_sample, y_sample)\n",
    "t0, t1 =lin1.intercept_[0], lin1.coef_[0][0]\n",
    "print(\"w0={:.2f}, w1={:.2e}\".format(t0, t1))"
   ]
  }
 ],
 "metadata": {
  "kernelspec": {
   "display_name": "Python 3 (ipykernel)",
   "language": "python",
   "name": "python3"
  },
  "language_info": {
   "codemirror_mode": {
    "name": "ipython",
    "version": 3
   },
   "file_extension": ".py",
   "mimetype": "text/x-python",
   "name": "python",
   "nbconvert_exporter": "python",
   "pygments_lexer": "ipython3",
   "version": "3.9.12"
  },
  "latex_envs": {
   "LaTeX_envs_menu_present": true,
   "autoclose": false,
   "autocomplete": true,
   "bibliofile": "biblio.bib",
   "cite_by": "apalike",
   "current_citInitial": 1,
   "eqLabelWithNumbers": true,
   "eqNumInitial": 1,
   "hotkeys": {
    "equation": "Ctrl-E",
    "itemize": "Ctrl-I"
   },
   "labels_anchors": false,
   "latex_user_defs": false,
   "report_style_numbering": false,
   "user_envs_cfg": false
  },
  "toc": {
   "base_numbering": 1,
   "nav_menu": {},
   "number_sections": true,
   "sideBar": true,
   "skip_h1_title": false,
   "title_cell": "Table of Contents",
   "title_sidebar": "Contents",
   "toc_cell": false,
   "toc_position": {},
   "toc_section_display": true,
   "toc_window_display": false
  },
  "varInspector": {
   "cols": {
    "lenName": 16,
    "lenType": 16,
    "lenVar": 40
   },
   "kernels_config": {
    "python": {
     "delete_cmd_postfix": "",
     "delete_cmd_prefix": "del ",
     "library": "var_list.py",
     "varRefreshCmd": "print(var_dic_list())"
    },
    "r": {
     "delete_cmd_postfix": ") ",
     "delete_cmd_prefix": "rm(",
     "library": "var_list.r",
     "varRefreshCmd": "cat(var_dic_list()) "
    }
   },
   "types_to_exclude": [
    "module",
    "function",
    "builtin_function_or_method",
    "instance",
    "_Feature"
   ],
   "window_display": false
  }
 },
 "nbformat": 4,
 "nbformat_minor": 5
}
