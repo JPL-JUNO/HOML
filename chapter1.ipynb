{
 "cells": [
  {
   "cell_type": "code",
   "execution_count": 2,
   "id": "18228c15",
   "metadata": {},
   "outputs": [],
   "source": [
    "import sys\n",
    "assert sys.version_info >= (3, 7)"
   ]
  },
  {
   "cell_type": "code",
   "execution_count": 3,
   "id": "ba6c71ca",
   "metadata": {},
   "outputs": [],
   "source": [
    "from packaging import version\n",
    "import sklearn\n",
    "assert version.parse(sklearn.__version__) >= version.parse('1.0.1')"
   ]
  },
  {
   "cell_type": "code",
   "execution_count": 4,
   "id": "22c2c36d",
   "metadata": {},
   "outputs": [],
   "source": [
    "import matplotlib.pyplot as plt\n",
    "plt.rc('font', size=12)\n",
    "plt.rc('axes', labelsize=14, titlesize=14)\n",
    "plt.rc('legend', fontsize=12)\n",
    "plt.rc('xtick', labelsize=10)\n",
    "plt.rc('ytick', labelsize=10)\n",
    "plt.rcParams['font.sans-serif'] = 'Consolas'"
   ]
  },
  {
   "cell_type": "code",
   "execution_count": 5,
   "id": "929cdf8a",
   "metadata": {
    "ExecuteTime": {
     "end_time": "2022-11-03T15:13:52.080077Z",
     "start_time": "2022-11-03T15:13:52.065929Z"
    }
   },
   "outputs": [],
   "source": [
    "import numpy as np\n",
    "np.random.seed(39)"
   ]
  },
  {
   "cell_type": "code",
   "execution_count": 6,
   "id": "f19c6ffe",
   "metadata": {},
   "outputs": [],
   "source": [
    "import pandas as pd"
   ]
  },
  {
   "cell_type": "code",
   "execution_count": 7,
   "id": "1e8e987b",
   "metadata": {},
   "outputs": [],
   "source": [
    "from sklearn.linear_model import LinearRegression"
   ]
  },
  {
   "cell_type": "code",
   "execution_count": 8,
   "id": "b7d91ae2",
   "metadata": {
    "ExecuteTime": {
     "end_time": "2022-11-03T15:16:00.296328Z",
     "start_time": "2022-11-03T15:16:00.282502Z"
    }
   },
   "outputs": [],
   "source": [
    "lifesat = pd.read_csv('data/lifesat.csv')\n",
    "X = lifesat[['GDP per capita (USD)']].values\n",
    "y = lifesat[['Life satisfaction']].values\n",
    "gdp = 'GDP per capita (USD)'\n",
    "ls = 'Life satisfaction'"
   ]
  },
  {
   "cell_type": "code",
   "execution_count": 15,
   "id": "70b3d2ef",
   "metadata": {},
   "outputs": [
    {
     "data": {
      "text/plain": [
       "(pandas.core.series.Series, pandas.core.frame.DataFrame, numpy.ndarray)"
      ]
     },
     "execution_count": 15,
     "metadata": {},
     "output_type": "execute_result"
    }
   ],
   "source": [
    "type(lifesat['GDP per capita (USD)']), type(lifesat[['GDP per capita (USD)']]), type(lifesat[['GDP per capita (USD)']].values)"
   ]
  },
  {
   "cell_type": "code",
   "execution_count": 22,
   "id": "5788a7e8",
   "metadata": {
    "ExecuteTime": {
     "end_time": "2022-11-03T15:16:12.656229Z",
     "start_time": "2022-11-03T15:16:12.557850Z"
    }
   },
   "outputs": [
    {
     "data": {
      "image/png": "[encoded data removed]",
      "text/plain": [
       "<Figure size 432x288 with 1 Axes>"
      ]
     },
     "metadata": {
      "needs_background": "light"
     },
     "output_type": "display_data"
    },
    {
     "name": "stdout",
     "output_type": "stream",
     "text": [
      "[[6.30165767]]\n"
     ]
    }
   ],
   "source": [
    "lifesat.plot(kind='scatter', grid=False, x=gdp, y=ls)\n",
    "plt.axis([23_500, 62_500, 4, 9])\n",
    "plt.show()\n",
    "\n",
    "model = LinearRegression()\n",
    "model.fit(X, y)\n",
    "X_new = [[37_655.2]]\n",
    "print(model.predict(X_new))"
   ]
  },
  {
   "cell_type": "markdown",
   "id": "2d70dc01",
   "metadata": {},
   "source": [
    "Replacing the Linear Regression model with k-Nearest Neighbors (in this example, k = 3) regression in the previous code is as simple as replacing these two lines:"
   ]
  },
  {
   "cell_type": "code",
   "execution_count": 26,
   "id": "0501529b",
   "metadata": {},
   "outputs": [
    {
     "name": "stdout",
     "output_type": "stream",
     "text": [
      "[[6.33333333]]\n"
     ]
    }
   ],
   "source": [
    "from sklearn.neighbors import KNeighborsRegressor\n",
    "model = KNeighborsRegressor(n_neighbors=3)\n",
    "model.fit(X, y)\n",
    "print(model.predict(X_new))"
   ]
  },
  {
   "cell_type": "markdown",
   "id": "792c3fd2",
   "metadata": {},
   "source": [
    "Generating the data and figures"
   ]
  },
  {
   "cell_type": "code",
   "execution_count": 21,
   "id": "c8083906",
   "metadata": {},
   "outputs": [],
   "source": [
    "import os\n",
    "IMAGES_PATH = os.getcwd() + '\\\\img\\\\codes\\\\'\n",
    "def save_fig(fig_id, tight_layout=True, fig_extension='png', resolution=300):\n",
    "    path = IMAGES_PATH + f'{fig_id}.{fig_extension}'\n",
    "    if tight_layout:\n",
    "        plt.tight_layout()\n",
    "    plt.savefig(path, format=fig_extension, dpi=resolution)"
   ]
  },
  {
   "cell_type": "code",
   "execution_count": 23,
   "id": "ef453bcb",
   "metadata": {},
   "outputs": [
    {
     "data": {
      "image/png": "[encoded data removed]",
      "text/plain": [
       "<Figure size 360x216 with 1 Axes>"
      ]
     },
     "metadata": {
      "needs_background": "light"
     },
     "output_type": "display_data"
    }
   ],
   "source": [
    "lifesat = pd.read_csv('data/lifesat.csv', index_col='Country')\n",
    "lifesat.plot(kind='scatter', figsize=(5, 3), grid=True, x=gdp, y=ls)\n",
    "min_life_sat = 4\n",
    "max_life_sat = 9\n",
    "min_gdp = 23_500\n",
    "max_gdp = 62_500\n",
    "position_text = {\n",
    "    \"Turkey\": (29_500, 4.2),\n",
    "    \"Hungary\": (28_000, 6.9),\n",
    "    \"France\": (40_000, 5),\n",
    "    \"New Zealand\": (28_000, 8.2),\n",
    "    \"Australia\": (50_000, 5.5),\n",
    "    \"United States\": (59_000, 5.3),\n",
    "    \"Denmark\": (46_000, 8.5)\n",
    "}\n",
    "\n",
    "for country, pos_text in position_text.items():\n",
    "    pos_data_x = lifesat[gdp].loc[country]\n",
    "    pos_data_y = lifesat[ls].loc[country]\n",
    "    country = 'U.S.' if country == 'United States' else country\n",
    "    plt.annotate(country, xy=(pos_data_x, pos_data_y), \n",
    "                 xytext=pos_text, \n",
    "                 arrowprops=dict(facecolor='black', width=.5,shrink=.08, headwidth=5))\n",
    "plt.axis([min_gdp, max_gdp, min_life_sat, max_life_sat])\n",
    "save_fig('money_happy_scatterplot')\n",
    "plt.show()"
   ]
  },
  {
   "cell_type": "code",
   "execution_count": 24,
   "id": "a93a5145",
   "metadata": {},
   "outputs": [
    {
     "data": {
      "image/png": "[encoded data removed]",
      "text/plain": [
       "<Figure size 360x216 with 1 Axes>"
      ]
     },
     "metadata": {
      "needs_background": "light"
     },
     "output_type": "display_data"
    }
   ],
   "source": [
    "lifesat.plot(kind='scatter', figsize=(5, 3), grid=True, x=gdp, y=ls)\n",
    "X = np.linspace(min_gdp, max_gdp, 1000)\n",
    "w1, w2 = 4.2, 0\n",
    "plt.plot(X, w1 + w2 * 1e-5 * X, 'r')\n",
    "plt.text(40_000, 4.9, fr\"$\\theta_0$={w1}\", color='red')\n",
    "plt.text(40_000, 4.4, fr\"$\\theta_1$={w2}\", color='red')\n",
    "\n",
    "w1, w2 = 10, -9\n",
    "plt.plot(X, w1 + w2 * 1e-5 * X, 'g')\n",
    "plt.text(26_000, 8.5, fr\"$\\theta_0$={w1}\", color='g')\n",
    "plt.text(26_000, 8.0, fr\"$\\theta_1={w2} \\times 10^{{-5}}$\", color='g')\n",
    "\n",
    "w1, w2 = 3, 8\n",
    "plt.plot(X, w1 + w2 * 1e-5 * X, 'b')\n",
    "plt.text(48_000, 8.5, fr\"$\\theta_0$={w1}\", color='b')\n",
    "plt.text(48_000, 8.0, fr\"$\\theta_1={w2} \\times 10^{{-5}}$\", color='b')\n",
    "\n",
    "plt.axis([min_gdp, max_gdp, min_life_sat, max_life_sat])\n",
    "\n",
    "save_fig('tweaking_model_params_plot')\n",
    "\n",
    "plt.show()"
   ]
  },
  {
   "cell_type": "code",
   "execution_count": null,
   "id": "4924b1e3",
   "metadata": {},
   "outputs": [],
   "source": []
  }
 ],
 "metadata": {
  "kernelspec": {
   "display_name": "Python 3.10.5 64-bit",
   "language": "python",
   "name": "python3"
  },
  "language_info": {
   "codemirror_mode": {
    "name": "ipython",
    "version": 3
   },
   "file_extension": ".py",
   "mimetype": "text/x-python",
   "name": "python",
   "nbconvert_exporter": "python",
   "pygments_lexer": "ipython3",
   "version": "3.10.5"
  },
  "latex_envs": {
   "LaTeX_envs_menu_present": true,
   "autoclose": false,
   "autocomplete": true,
   "bibliofile": "biblio.bib",
   "cite_by": "apalike",
   "current_citInitial": 1,
   "eqLabelWithNumbers": true,
   "eqNumInitial": 1,
   "hotkeys": {
    "equation": "Ctrl-E",
    "itemize": "Ctrl-I"
   },
   "labels_anchors": false,
   "latex_user_defs": false,
   "report_style_numbering": false,
   "user_envs_cfg": false
  },
  "toc": {
   "base_numbering": 1,
   "nav_menu": {},
   "number_sections": true,
   "sideBar": true,
   "skip_h1_title": false,
   "title_cell": "Table of Contents",
   "title_sidebar": "Contents",
   "toc_cell": false,
   "toc_position": {},
   "toc_section_display": true,
   "toc_window_display": false
  },
  "varInspector": {
   "cols": {
    "lenName": 16,
    "lenType": 16,
    "lenVar": 40
   },
   "kernels_config": {
    "python": {
     "delete_cmd_postfix": "",
     "delete_cmd_prefix": "del ",
     "library": "var_list.py",
     "varRefreshCmd": "print(var_dic_list())"
    },
    "r": {
     "delete_cmd_postfix": ") ",
     "delete_cmd_prefix": "rm(",
     "library": "var_list.r",
     "varRefreshCmd": "cat(var_dic_list()) "
    }
   },
   "types_to_exclude": [
    "module",
    "function",
    "builtin_function_or_method",
    "instance",
    "_Feature"
   ],
   "window_display": false
  },
  "vp": {
   "vp_config_version": "1.0.0",
   "vp_menu_width": 273,
   "vp_note_display": false,
   "vp_note_width": 0,
   "vp_position": {
    "width": 278
   },
   "vp_section_display": false,
   "vp_signature": "VisualPython"
  },
  "vscode": {
   "interpreter": {
    "hash": "2469a70536e4d2335a2ea8907942d0699c37342a371ac185bdb5b0aa6f073890"
   }
  }
 },
 "nbformat": 4,
 "nbformat_minor": 5
}
