{
 "cells": [
  {
   "cell_type": "code",
   "execution_count": 9,
   "id": "929cdf8a",
   "metadata": {
    "ExecuteTime": {
     "end_time": "2022-11-03T15:13:52.080077Z",
     "start_time": "2022-11-03T15:13:52.065929Z"
    }
   },
   "outputs": [],
   "source": [
    "import pandas as pd\n",
    "import numpy as np\n",
    "import matplotlib.pyplot as plt\n",
    "plt.rcParams['font.sans-serif'] = 'Consolas'"
   ]
  },
  {
   "cell_type": "code",
   "execution_count": 2,
   "id": "ade7b983",
   "metadata": {
    "ExecuteTime": {
     "end_time": "2022-11-03T15:10:40.513571Z",
     "start_time": "2022-11-03T15:10:40.503823Z"
    }
   },
   "outputs": [
    {
     "data": {
      "text/plain": [
       "0    b\n",
       "1    a\n",
       "2    c\n",
       "3    d\n",
       "dtype: object"
      ]
     },
     "execution_count": 2,
     "metadata": {},
     "output_type": "execute_result"
    }
   ],
   "source": [
    "pd.Series(list('bacd'))"
   ]
  },
  {
   "cell_type": "code",
   "execution_count": 3,
   "id": "c9df8286",
   "metadata": {
    "ExecuteTime": {
     "end_time": "2022-11-03T15:10:40.967862Z",
     "start_time": "2022-11-03T15:10:40.960864Z"
    }
   },
   "outputs": [
    {
     "data": {
      "text/plain": [
       "0    a\n",
       "1    b\n",
       "2    c\n",
       "3    d\n",
       "4    e\n",
       "5    f\n",
       "6    g\n",
       "dtype: object"
      ]
     },
     "execution_count": 3,
     "metadata": {},
     "output_type": "execute_result"
    }
   ],
   "source": [
    "pd.Series(list('abcdefg'))"
   ]
  },
  {
   "cell_type": "code",
   "execution_count": 16,
   "id": "b7d91ae2",
   "metadata": {
    "ExecuteTime": {
     "end_time": "2022-11-03T15:16:00.296328Z",
     "start_time": "2022-11-03T15:16:00.282502Z"
    }
   },
   "outputs": [],
   "source": [
    "lifesat = pd.read_csv('data/lifesat.csv')\n",
    "gdp = 'GDP per capita (USD)'\n",
    "ls = 'Life satisfaction'"
   ]
  },
  {
   "cell_type": "code",
   "execution_count": 17,
   "id": "5788a7e8",
   "metadata": {
    "ExecuteTime": {
     "end_time": "2022-11-03T15:16:12.656229Z",
     "start_time": "2022-11-03T15:16:12.557850Z"
    }
   },
   "outputs": [
    {
     "data": {
      "image/png": "[encoded data removed]",
      "text/plain": [
       "<Figure size 432x288 with 1 Axes>"
      ]
     },
     "metadata": {
      "needs_background": "light"
     },
     "output_type": "display_data"
    }
   ],
   "source": [
    "plt.scatter(lifesat[gdp], lifesat[ls])\n",
    "plt.axis([20_000, 65_000, 4, 9])\n",
    "plt.show()"
   ]
  },
  {
   "cell_type": "code",
   "execution_count": null,
   "id": "0501529b",
   "metadata": {},
   "outputs": [],
   "source": []
  }
 ],
 "metadata": {
  "kernelspec": {
   "display_name": "Python 3 (ipykernel)",
   "language": "python",
   "name": "python3"
  },
  "language_info": {
   "codemirror_mode": {
    "name": "ipython",
    "version": 3
   },
   "file_extension": ".py",
   "mimetype": "text/x-python",
   "name": "python",
   "nbconvert_exporter": "python",
   "pygments_lexer": "ipython3",
   "version": "3.9.12"
  },
  "latex_envs": {
   "LaTeX_envs_menu_present": true,
   "autoclose": false,
   "autocomplete": true,
   "bibliofile": "biblio.bib",
   "cite_by": "apalike",
   "current_citInitial": 1,
   "eqLabelWithNumbers": true,
   "eqNumInitial": 1,
   "hotkeys": {
    "equation": "Ctrl-E",
    "itemize": "Ctrl-I"
   },
   "labels_anchors": false,
   "latex_user_defs": false,
   "report_style_numbering": false,
   "user_envs_cfg": false
  },
  "toc": {
   "base_numbering": 1,
   "nav_menu": {},
   "number_sections": true,
   "sideBar": true,
   "skip_h1_title": false,
   "title_cell": "Table of Contents",
   "title_sidebar": "Contents",
   "toc_cell": false,
   "toc_position": {},
   "toc_section_display": true,
   "toc_window_display": false
  },
  "varInspector": {
   "cols": {
    "lenName": 16,
    "lenType": 16,
    "lenVar": 40
   },
   "kernels_config": {
    "python": {
     "delete_cmd_postfix": "",
     "delete_cmd_prefix": "del ",
     "library": "var_list.py",
     "varRefreshCmd": "print(var_dic_list())"
    },
    "r": {
     "delete_cmd_postfix": ") ",
     "delete_cmd_prefix": "rm(",
     "library": "var_list.r",
     "varRefreshCmd": "cat(var_dic_list()) "
    }
   },
   "types_to_exclude": [
    "module",
    "function",
    "builtin_function_or_method",
    "instance",
    "_Feature"
   ],
   "window_display": false
  },
  "vp": {
   "vp_config_version": "1.0.0",
   "vp_menu_width": 273,
   "vp_note_display": false,
   "vp_note_width": 0,
   "vp_position": {
    "width": 278
   },
   "vp_section_display": false,
   "vp_signature": "VisualPython"
  }
 },
 "nbformat": 4,
 "nbformat_minor": 5
}
